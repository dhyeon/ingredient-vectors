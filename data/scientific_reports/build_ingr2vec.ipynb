{
 "cells": [
  {
   "cell_type": "code",
   "execution_count": 19,
   "metadata": {},
   "outputs": [],
   "source": [
    "path = \"./ingr2vec\"\n",
    "with open(path, 'r') as f:\n",
    "    f_write = open(\"./ingr2vec.csv\", 'w')\n",
    "    for line in f.readlines():\n",
    "        line = line.rstrip()\n",
    "        ingr = line.split(\" \")[0]\n",
    "        comps = line.split(\" \")[1:]\n",
    "        comps_str = ' '.join(comps)\n",
    "        \n",
    "        if len(comps) > 5:\n",
    "            _print = \"\\\"\" + comps_str + \"\\\",\" + ingr\n",
    "            f_write.write(_print)\n",
    "            f_write.write(\"\\n\")\n",
    "    f_write.close()"
   ]
  },
  {
   "cell_type": "code",
   "execution_count": null,
   "metadata": {},
   "outputs": [],
   "source": []
  }
 ],
 "metadata": {
  "kernelspec": {
   "display_name": "Python 3",
   "language": "python",
   "name": "python3"
  },
  "language_info": {
   "codemirror_mode": {
    "name": "ipython",
    "version": 3
   },
   "file_extension": ".py",
   "mimetype": "text/x-python",
   "name": "python",
   "nbconvert_exporter": "python",
   "pygments_lexer": "ipython3",
   "version": "3.5.2"
  }
 },
 "nbformat": 4,
 "nbformat_minor": 2
}
